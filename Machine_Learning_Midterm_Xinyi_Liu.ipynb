{
  "nbformat": 4,
  "nbformat_minor": 0,
  "metadata": {
    "colab": {
      "provenance": [],
      "collapsed_sections": [
        "_7UHBqk2o8F2",
        "9YHCDyFkrYYY"
      ]
    },
    "kernelspec": {
      "name": "python3",
      "display_name": "Python 3"
    },
    "language_info": {
      "name": "python"
    }
  },
  "cells": [
    {
      "cell_type": "markdown",
      "source": [
        "# 1.  Import the spam dataset and print the first six rows.  "
      ],
      "metadata": {
        "id": "dN9nEemqoK1h"
      }
    },
    {
      "cell_type": "code",
      "source": [
        "import pandas as pd\n",
        "import numpy as np\n",
        "import matplotlib.pyplot as plt"
      ],
      "metadata": {
        "id": "RmTzDqAVCc4v"
      },
      "execution_count": 1,
      "outputs": []
    },
    {
      "cell_type": "code",
      "source": [
        "from google.colab import drive\n",
        "drive.mount('/content/drive')"
      ],
      "metadata": {
        "colab": {
          "base_uri": "https://localhost:8080/"
        },
        "id": "P4YaciPOBGxi",
        "outputId": "6bc38ab2-ee21-48a0-c3c3-19aaa63201b3"
      },
      "execution_count": 2,
      "outputs": [
        {
          "output_type": "stream",
          "name": "stdout",
          "text": [
            "Drive already mounted at /content/drive; to attempt to forcibly remount, call drive.mount(\"/content/drive\", force_remount=True).\n"
          ]
        }
      ]
    },
    {
      "cell_type": "code",
      "source": [
        "df = pd.read_csv('/content/drive/MyDrive/Ml Spring 2023/spam_dataset.csv')"
      ],
      "metadata": {
        "id": "hQKxSh-eB5Im"
      },
      "execution_count": 3,
      "outputs": []
    },
    {
      "cell_type": "code",
      "source": [
        "df.head(6)"
      ],
      "metadata": {
        "colab": {
          "base_uri": "https://localhost:8080/",
          "height": 331
        },
        "id": "HfeEAN5mC8B6",
        "outputId": "feed5555-0c6e-4bfb-f200-92ff6c3c69cc"
      },
      "execution_count": 4,
      "outputs": [
        {
          "output_type": "execute_result",
          "data": {
            "text/plain": [
              "   word_freq_make:  word_freq_address:  word_freq_all:  word_freq_3d:  \\\n",
              "0             0.00                0.64            0.64            0.0   \n",
              "1             0.21                0.28            0.50            0.0   \n",
              "2             0.06                0.00            0.71            0.0   \n",
              "3             0.00                0.00            0.00            0.0   \n",
              "4             0.00                0.00            0.00            0.0   \n",
              "5             0.00                0.00            0.00            0.0   \n",
              "\n",
              "   word_freq_our:  word_freq_over:  word_freq_remove:  word_freq_internet:  \\\n",
              "0            0.32             0.00               0.00                 0.00   \n",
              "1            0.14             0.28               0.21                 0.07   \n",
              "2            1.23             0.19               0.19                 0.12   \n",
              "3            0.63             0.00               0.31                 0.63   \n",
              "4            0.63             0.00               0.31                 0.63   \n",
              "5            1.85             0.00               0.00                 1.85   \n",
              "\n",
              "   word_freq_order:  word_freq_mail:  ...  char_freq_;:  char_freq_(:  \\\n",
              "0              0.00             0.00  ...          0.00         0.000   \n",
              "1              0.00             0.94  ...          0.00         0.132   \n",
              "2              0.64             0.25  ...          0.01         0.143   \n",
              "3              0.31             0.63  ...          0.00         0.137   \n",
              "4              0.31             0.63  ...          0.00         0.135   \n",
              "5              0.00             0.00  ...          0.00         0.223   \n",
              "\n",
              "   char_freq_[:  char_freq_!:  char_freq_$:  char_freq_#:  \\\n",
              "0           0.0         0.778         0.000         0.000   \n",
              "1           0.0         0.372         0.180         0.048   \n",
              "2           0.0         0.276         0.184         0.010   \n",
              "3           0.0         0.137         0.000         0.000   \n",
              "4           0.0         0.135         0.000         0.000   \n",
              "5           0.0         0.000         0.000         0.000   \n",
              "\n",
              "   capital_run_length_average:  capital_run_length_longest:  \\\n",
              "0                        3.756                           61   \n",
              "1                        5.114                          101   \n",
              "2                        9.821                          485   \n",
              "3                        3.537                           40   \n",
              "4                        3.537                           40   \n",
              "5                        3.000                           15   \n",
              "\n",
              "   capital_run_length_total:  spam  \n",
              "0                        278     1  \n",
              "1                       1028     1  \n",
              "2                       2259     1  \n",
              "3                        191     1  \n",
              "4                        191     1  \n",
              "5                         54     1  \n",
              "\n",
              "[6 rows x 58 columns]"
            ],
            "text/html": [
              "\n",
              "  <div id=\"df-1af00ce7-685e-4fc3-a52c-f22529f1519a\">\n",
              "    <div class=\"colab-df-container\">\n",
              "      <div>\n",
              "<style scoped>\n",
              "    .dataframe tbody tr th:only-of-type {\n",
              "        vertical-align: middle;\n",
              "    }\n",
              "\n",
              "    .dataframe tbody tr th {\n",
              "        vertical-align: top;\n",
              "    }\n",
              "\n",
              "    .dataframe thead th {\n",
              "        text-align: right;\n",
              "    }\n",
              "</style>\n",
              "<table border=\"1\" class=\"dataframe\">\n",
              "  <thead>\n",
              "    <tr style=\"text-align: right;\">\n",
              "      <th></th>\n",
              "      <th>word_freq_make:</th>\n",
              "      <th>word_freq_address:</th>\n",
              "      <th>word_freq_all:</th>\n",
              "      <th>word_freq_3d:</th>\n",
              "      <th>word_freq_our:</th>\n",
              "      <th>word_freq_over:</th>\n",
              "      <th>word_freq_remove:</th>\n",
              "      <th>word_freq_internet:</th>\n",
              "      <th>word_freq_order:</th>\n",
              "      <th>word_freq_mail:</th>\n",
              "      <th>...</th>\n",
              "      <th>char_freq_;:</th>\n",
              "      <th>char_freq_(:</th>\n",
              "      <th>char_freq_[:</th>\n",
              "      <th>char_freq_!:</th>\n",
              "      <th>char_freq_$:</th>\n",
              "      <th>char_freq_#:</th>\n",
              "      <th>capital_run_length_average:</th>\n",
              "      <th>capital_run_length_longest:</th>\n",
              "      <th>capital_run_length_total:</th>\n",
              "      <th>spam</th>\n",
              "    </tr>\n",
              "  </thead>\n",
              "  <tbody>\n",
              "    <tr>\n",
              "      <th>0</th>\n",
              "      <td>0.00</td>\n",
              "      <td>0.64</td>\n",
              "      <td>0.64</td>\n",
              "      <td>0.0</td>\n",
              "      <td>0.32</td>\n",
              "      <td>0.00</td>\n",
              "      <td>0.00</td>\n",
              "      <td>0.00</td>\n",
              "      <td>0.00</td>\n",
              "      <td>0.00</td>\n",
              "      <td>...</td>\n",
              "      <td>0.00</td>\n",
              "      <td>0.000</td>\n",
              "      <td>0.0</td>\n",
              "      <td>0.778</td>\n",
              "      <td>0.000</td>\n",
              "      <td>0.000</td>\n",
              "      <td>3.756</td>\n",
              "      <td>61</td>\n",
              "      <td>278</td>\n",
              "      <td>1</td>\n",
              "    </tr>\n",
              "    <tr>\n",
              "      <th>1</th>\n",
              "      <td>0.21</td>\n",
              "      <td>0.28</td>\n",
              "      <td>0.50</td>\n",
              "      <td>0.0</td>\n",
              "      <td>0.14</td>\n",
              "      <td>0.28</td>\n",
              "      <td>0.21</td>\n",
              "      <td>0.07</td>\n",
              "      <td>0.00</td>\n",
              "      <td>0.94</td>\n",
              "      <td>...</td>\n",
              "      <td>0.00</td>\n",
              "      <td>0.132</td>\n",
              "      <td>0.0</td>\n",
              "      <td>0.372</td>\n",
              "      <td>0.180</td>\n",
              "      <td>0.048</td>\n",
              "      <td>5.114</td>\n",
              "      <td>101</td>\n",
              "      <td>1028</td>\n",
              "      <td>1</td>\n",
              "    </tr>\n",
              "    <tr>\n",
              "      <th>2</th>\n",
              "      <td>0.06</td>\n",
              "      <td>0.00</td>\n",
              "      <td>0.71</td>\n",
              "      <td>0.0</td>\n",
              "      <td>1.23</td>\n",
              "      <td>0.19</td>\n",
              "      <td>0.19</td>\n",
              "      <td>0.12</td>\n",
              "      <td>0.64</td>\n",
              "      <td>0.25</td>\n",
              "      <td>...</td>\n",
              "      <td>0.01</td>\n",
              "      <td>0.143</td>\n",
              "      <td>0.0</td>\n",
              "      <td>0.276</td>\n",
              "      <td>0.184</td>\n",
              "      <td>0.010</td>\n",
              "      <td>9.821</td>\n",
              "      <td>485</td>\n",
              "      <td>2259</td>\n",
              "      <td>1</td>\n",
              "    </tr>\n",
              "    <tr>\n",
              "      <th>3</th>\n",
              "      <td>0.00</td>\n",
              "      <td>0.00</td>\n",
              "      <td>0.00</td>\n",
              "      <td>0.0</td>\n",
              "      <td>0.63</td>\n",
              "      <td>0.00</td>\n",
              "      <td>0.31</td>\n",
              "      <td>0.63</td>\n",
              "      <td>0.31</td>\n",
              "      <td>0.63</td>\n",
              "      <td>...</td>\n",
              "      <td>0.00</td>\n",
              "      <td>0.137</td>\n",
              "      <td>0.0</td>\n",
              "      <td>0.137</td>\n",
              "      <td>0.000</td>\n",
              "      <td>0.000</td>\n",
              "      <td>3.537</td>\n",
              "      <td>40</td>\n",
              "      <td>191</td>\n",
              "      <td>1</td>\n",
              "    </tr>\n",
              "    <tr>\n",
              "      <th>4</th>\n",
              "      <td>0.00</td>\n",
              "      <td>0.00</td>\n",
              "      <td>0.00</td>\n",
              "      <td>0.0</td>\n",
              "      <td>0.63</td>\n",
              "      <td>0.00</td>\n",
              "      <td>0.31</td>\n",
              "      <td>0.63</td>\n",
              "      <td>0.31</td>\n",
              "      <td>0.63</td>\n",
              "      <td>...</td>\n",
              "      <td>0.00</td>\n",
              "      <td>0.135</td>\n",
              "      <td>0.0</td>\n",
              "      <td>0.135</td>\n",
              "      <td>0.000</td>\n",
              "      <td>0.000</td>\n",
              "      <td>3.537</td>\n",
              "      <td>40</td>\n",
              "      <td>191</td>\n",
              "      <td>1</td>\n",
              "    </tr>\n",
              "    <tr>\n",
              "      <th>5</th>\n",
              "      <td>0.00</td>\n",
              "      <td>0.00</td>\n",
              "      <td>0.00</td>\n",
              "      <td>0.0</td>\n",
              "      <td>1.85</td>\n",
              "      <td>0.00</td>\n",
              "      <td>0.00</td>\n",
              "      <td>1.85</td>\n",
              "      <td>0.00</td>\n",
              "      <td>0.00</td>\n",
              "      <td>...</td>\n",
              "      <td>0.00</td>\n",
              "      <td>0.223</td>\n",
              "      <td>0.0</td>\n",
              "      <td>0.000</td>\n",
              "      <td>0.000</td>\n",
              "      <td>0.000</td>\n",
              "      <td>3.000</td>\n",
              "      <td>15</td>\n",
              "      <td>54</td>\n",
              "      <td>1</td>\n",
              "    </tr>\n",
              "  </tbody>\n",
              "</table>\n",
              "<p>6 rows × 58 columns</p>\n",
              "</div>\n",
              "      <button class=\"colab-df-convert\" onclick=\"convertToInteractive('df-1af00ce7-685e-4fc3-a52c-f22529f1519a')\"\n",
              "              title=\"Convert this dataframe to an interactive table.\"\n",
              "              style=\"display:none;\">\n",
              "        \n",
              "  <svg xmlns=\"http://www.w3.org/2000/svg\" height=\"24px\"viewBox=\"0 0 24 24\"\n",
              "       width=\"24px\">\n",
              "    <path d=\"M0 0h24v24H0V0z\" fill=\"none\"/>\n",
              "    <path d=\"M18.56 5.44l.94 2.06.94-2.06 2.06-.94-2.06-.94-.94-2.06-.94 2.06-2.06.94zm-11 1L8.5 8.5l.94-2.06 2.06-.94-2.06-.94L8.5 2.5l-.94 2.06-2.06.94zm10 10l.94 2.06.94-2.06 2.06-.94-2.06-.94-.94-2.06-.94 2.06-2.06.94z\"/><path d=\"M17.41 7.96l-1.37-1.37c-.4-.4-.92-.59-1.43-.59-.52 0-1.04.2-1.43.59L10.3 9.45l-7.72 7.72c-.78.78-.78 2.05 0 2.83L4 21.41c.39.39.9.59 1.41.59.51 0 1.02-.2 1.41-.59l7.78-7.78 2.81-2.81c.8-.78.8-2.07 0-2.86zM5.41 20L4 18.59l7.72-7.72 1.47 1.35L5.41 20z\"/>\n",
              "  </svg>\n",
              "      </button>\n",
              "      \n",
              "  <style>\n",
              "    .colab-df-container {\n",
              "      display:flex;\n",
              "      flex-wrap:wrap;\n",
              "      gap: 12px;\n",
              "    }\n",
              "\n",
              "    .colab-df-convert {\n",
              "      background-color: #E8F0FE;\n",
              "      border: none;\n",
              "      border-radius: 50%;\n",
              "      cursor: pointer;\n",
              "      display: none;\n",
              "      fill: #1967D2;\n",
              "      height: 32px;\n",
              "      padding: 0 0 0 0;\n",
              "      width: 32px;\n",
              "    }\n",
              "\n",
              "    .colab-df-convert:hover {\n",
              "      background-color: #E2EBFA;\n",
              "      box-shadow: 0px 1px 2px rgba(60, 64, 67, 0.3), 0px 1px 3px 1px rgba(60, 64, 67, 0.15);\n",
              "      fill: #174EA6;\n",
              "    }\n",
              "\n",
              "    [theme=dark] .colab-df-convert {\n",
              "      background-color: #3B4455;\n",
              "      fill: #D2E3FC;\n",
              "    }\n",
              "\n",
              "    [theme=dark] .colab-df-convert:hover {\n",
              "      background-color: #434B5C;\n",
              "      box-shadow: 0px 1px 3px 1px rgba(0, 0, 0, 0.15);\n",
              "      filter: drop-shadow(0px 1px 2px rgba(0, 0, 0, 0.3));\n",
              "      fill: #FFFFFF;\n",
              "    }\n",
              "  </style>\n",
              "\n",
              "      <script>\n",
              "        const buttonEl =\n",
              "          document.querySelector('#df-1af00ce7-685e-4fc3-a52c-f22529f1519a button.colab-df-convert');\n",
              "        buttonEl.style.display =\n",
              "          google.colab.kernel.accessAllowed ? 'block' : 'none';\n",
              "\n",
              "        async function convertToInteractive(key) {\n",
              "          const element = document.querySelector('#df-1af00ce7-685e-4fc3-a52c-f22529f1519a');\n",
              "          const dataTable =\n",
              "            await google.colab.kernel.invokeFunction('convertToInteractive',\n",
              "                                                     [key], {});\n",
              "          if (!dataTable) return;\n",
              "\n",
              "          const docLinkHtml = 'Like what you see? Visit the ' +\n",
              "            '<a target=\"_blank\" href=https://colab.research.google.com/notebooks/data_table.ipynb>data table notebook</a>'\n",
              "            + ' to learn more about interactive tables.';\n",
              "          element.innerHTML = '';\n",
              "          dataTable['output_type'] = 'display_data';\n",
              "          await google.colab.output.renderOutput(dataTable, element);\n",
              "          const docLink = document.createElement('div');\n",
              "          docLink.innerHTML = docLinkHtml;\n",
              "          element.appendChild(docLink);\n",
              "        }\n",
              "      </script>\n",
              "    </div>\n",
              "  </div>\n",
              "  "
            ]
          },
          "metadata": {},
          "execution_count": 4
        }
      ]
    },
    {
      "cell_type": "markdown",
      "source": [
        "# 2.  Read through the documentation of the original dataset here:\n",
        "\n",
        "http://archive.ics.uci.edu/ml/machine-learning-databases/spambase/spambase.names\n",
        "\n",
        "# The dependent variable is \"spam\" where one indicates that an email is spam and zero otherwise.  Which three variables in the dataset do you think will be important predictors in a model of spam?  Why?"
      ],
      "metadata": {
        "id": "p6O0U530oNs3"
      }
    },
    {
      "cell_type": "markdown",
      "source": [
        "There are several variables in the dataset that could be important predictors in a model of spam. Here are three variables that I think could be important:\n",
        "\n",
        "`'char_freq_$`': This variable measures the percentage of characters in the email that are `'$'` symbols. It is possible that spammers use `'$'` symbols frequently in their emails to catch the attention of recipients. Therefore, this variable could be a good predictor of spam.\n",
        "\n",
        "`'capital_run_length_average'`: This variable measures the average length of uninterrupted sequences of capital letters in the email. It is possible that spammers use capital letters frequently in their emails to create a sense of urgency or importance. Therefore, this variable could also be a good predictor of spam.\n",
        "\n",
        "`'word_freq_remove'`: This variable measures the percentage of words in the email that are 'remove'. It is possible that spammers frequently use the word 'remove' in their emails to instruct recipients to take some action (such as clicking on a link or replying to the email). Therefore, this variable could also be a good predictor of spam."
      ],
      "metadata": {
        "id": "_hZH8No0DMCj"
      }
    },
    {
      "cell_type": "markdown",
      "source": [
        "# 3.  Visualize the univariate distribution of each of the variables in the previous question.  "
      ],
      "metadata": {
        "id": "20f9IjGboP-x"
      }
    },
    {
      "cell_type": "code",
      "source": [
        "print(df['char_freq_$:'].describe())\n",
        "df['char_freq_$:'].hist()"
      ],
      "metadata": {
        "colab": {
          "base_uri": "https://localhost:8080/",
          "height": 444
        },
        "id": "urSoYhIfDc9A",
        "outputId": "3eda213b-19ee-472c-bf1a-119cc531c103"
      },
      "execution_count": 5,
      "outputs": [
        {
          "output_type": "stream",
          "name": "stdout",
          "text": [
            "count    4601.000000\n",
            "mean        0.075811\n",
            "std         0.245882\n",
            "min         0.000000\n",
            "25%         0.000000\n",
            "50%         0.000000\n",
            "75%         0.052000\n",
            "max         6.003000\n",
            "Name: char_freq_$:, dtype: float64\n"
          ]
        },
        {
          "output_type": "execute_result",
          "data": {
            "text/plain": [
              "<AxesSubplot:>"
            ]
          },
          "metadata": {},
          "execution_count": 5
        },
        {
          "output_type": "display_data",
          "data": {
            "text/plain": [
              "<Figure size 432x288 with 1 Axes>"
            ],
            "image/png": "[encoded data removed]"
          },
          "metadata": {
            "needs_background": "light"
          }
        }
      ]
    },
    {
      "cell_type": "code",
      "source": [
        "print(df['capital_run_length_average:'].describe())\n",
        "df['capital_run_length_average:'].hist()"
      ],
      "metadata": {
        "colab": {
          "base_uri": "https://localhost:8080/",
          "height": 444
        },
        "id": "1HpdpYVsG_Fs",
        "outputId": "3f049846-6c9a-487c-b2d9-5d582944045b"
      },
      "execution_count": 6,
      "outputs": [
        {
          "output_type": "stream",
          "name": "stdout",
          "text": [
            "count    4601.000000\n",
            "mean        5.191515\n",
            "std        31.729449\n",
            "min         1.000000\n",
            "25%         1.588000\n",
            "50%         2.276000\n",
            "75%         3.706000\n",
            "max      1102.500000\n",
            "Name: capital_run_length_average:, dtype: float64\n"
          ]
        },
        {
          "output_type": "execute_result",
          "data": {
            "text/plain": [
              "<AxesSubplot:>"
            ]
          },
          "metadata": {},
          "execution_count": 6
        },
        {
          "output_type": "display_data",
          "data": {
            "text/plain": [
              "<Figure size 432x288 with 1 Axes>"
            ],
            "image/png": "[encoded data removed]"
          },
          "metadata": {
            "needs_background": "light"
          }
        }
      ]
    },
    {
      "cell_type": "code",
      "source": [
        "print(df['word_freq_remove:'].describe())\n",
        "df['word_freq_remove:'].hist()"
      ],
      "metadata": {
        "colab": {
          "base_uri": "https://localhost:8080/",
          "height": 444
        },
        "id": "8dnD0SMnHC4B",
        "outputId": "996cf92c-62e4-4085-b48c-1869d1b730fb"
      },
      "execution_count": 7,
      "outputs": [
        {
          "output_type": "stream",
          "name": "stdout",
          "text": [
            "count    4601.000000\n",
            "mean        0.114208\n",
            "std         0.391441\n",
            "min         0.000000\n",
            "25%         0.000000\n",
            "50%         0.000000\n",
            "75%         0.000000\n",
            "max         7.270000\n",
            "Name: word_freq_remove:, dtype: float64\n"
          ]
        },
        {
          "output_type": "execute_result",
          "data": {
            "text/plain": [
              "<AxesSubplot:>"
            ]
          },
          "metadata": {},
          "execution_count": 7
        },
        {
          "output_type": "display_data",
          "data": {
            "text/plain": [
              "<Figure size 432x288 with 1 Axes>"
            ],
            "image/png": "[encoded data removed]"
          },
          "metadata": {
            "needs_background": "light"
          }
        }
      ]
    },
    {
      "cell_type": "markdown",
      "source": [
        "# 4. Name each of the supervised learning models that we have learned thus far that are used to predict dependent variables like \"spam\". "
      ],
      "metadata": {
        "id": "d6uW9kRjoVtQ"
      }
    },
    {
      "cell_type": "markdown",
      "source": [
        "If we want to focus on supervised learning models in classification:\n",
        "\n",
        "1.K Nearest Neighbors\n",
        "\n",
        "2.Logistic Regression\n",
        "\n",
        "3.Random Forest\n",
        "\n",
        "4.Decision Tree\n",
        "\n",
        "5.Support Vector Machines\n",
        "\n",
        "6.Bagging\n",
        "\n"
      ],
      "metadata": {
        "id": "lv6Ixv7dHdZo"
      }
    },
    {
      "cell_type": "markdown",
      "source": [
        "# 5. Describe the importance of training and test data.  Why do we separate data into these subsets?"
      ],
      "metadata": {
        "id": "Cx1ggR9LoXyV"
      }
    },
    {
      "cell_type": "markdown",
      "source": [
        "The importance of training and test data is that it allows us to assess the performance of a machine learning model on new, unseen data. When we train a machine learning model, we fit the model to a set of training data, which consists of input features and corresponding output labels. The goal of the model is to learn patterns in the training data that can be used to predict the output label for new, unseen input features.\n",
        "\n",
        "However, we cannot rely solely on the model's performance on the training data to assess its effectiveness. This is because the model may have simply memorized the training data, rather than learning generalizable patterns that can be applied to new data. To test the model's performance on new data, we need to evaluate it on a separate set of data that the model has not seen before. This is typically done using a test data set, which consists of input features and output labels that are not used in the training process.\n",
        "\n",
        "By separating the data into training and test sets, we can measure how well the model generalizes to new data. If the model performs well on the training data but poorly on the test data, it may be overfitting, which means it is too complex and has learned the noise in the training data. In contrast, if the model performs poorly on both the training and test data, it may be underfitting, which means it is too simple and is unable to capture the patterns in the data."
      ],
      "metadata": {
        "id": "1E8WvzigH-2I"
      }
    },
    {
      "cell_type": "markdown",
      "source": [
        "# 6. What is k-fold cross validation and what do we use it for?"
      ],
      "metadata": {
        "id": "_7UHBqk2o8F2"
      }
    },
    {
      "cell_type": "markdown",
      "source": [
        "K-fold cross validation is a technique used to evaluate the performance of a machine learning model by partitioning the data into k equal-sized subsets (or \"folds\"). The model is then trained on k-1 of the folds and evaluated on the remaining fold. This process is repeated k times, with each fold used exactly once as the validation data. The performance metrics from each iteration are then averaged to obtain an estimate of the model's generalization performance.\n",
        "\n",
        "The purpose of k-fold cross validation is to provide a more accurate estimate of the model's performance than using a single training and test split. By repeating the training and evaluation process k times, we can obtain a more reliable estimate of the model's performance on unseen data. Additionally, k-fold cross validation allows us to use all the data for training and testing, which can be especially beneficial in situations where the amount of data is limited.\n",
        "\n",
        "In practice, k-fold cross validation is often used for hyperparameter tuning, which involves selecting the optimal values for model parameters that cannot be learned from the data. By evaluating the performance of the model for different hyperparameter values using k-fold cross validation, we can select the hyperparameters that yield the best performance on average across all folds. This can improve the generalization performance of the model on new, unseen data."
      ],
      "metadata": {
        "id": "K8i-JKnhISH6"
      }
    },
    {
      "cell_type": "markdown",
      "source": [
        "# 7. How is k-fold cross validation different from stratified k-fold cross validation?"
      ],
      "metadata": {
        "id": "OEhD8ocBpBjc"
      }
    },
    {
      "cell_type": "markdown",
      "source": [
        "They differ in how they split the data into folds.\n",
        "\n",
        "In k-fold cross-validation, the data is randomly partitioned into k equal-sized folds, and the model is trained and tested k times, each time using a different fold as the test set and the remaining folds as the training set.\n",
        "\n",
        "In stratified k-fold cross-validation, the data is split into k folds while preserving the percentage of samples for each class. This is especially useful when dealing with imbalanced datasets, where one class may have significantly fewer samples than the other(s). In such cases, stratified k-fold cross-validation can help ensure that each fold has a representative proportion of each class."
      ],
      "metadata": {
        "id": "dUHGJjDCISmm"
      }
    },
    {
      "cell_type": "markdown",
      "source": [
        "# 8.1 Choose one model from question four.  Split the data into training and test subsets.  Build a model with the three variables in the dataset that you think will be good predictors of \"spam\".  "
      ],
      "metadata": {
        "id": "uAlK8AC8pXFQ"
      }
    },
    {
      "cell_type": "markdown",
      "source": [
        "## KNN model"
      ],
      "metadata": {
        "id": "-pKFQqV_pYK1"
      }
    },
    {
      "cell_type": "code",
      "source": [
        "from sklearn.model_selection import train_test_split\n",
        "from sklearn.neighbors import KNeighborsClassifier\n",
        "\n",
        "from sklearn.preprocessing import StandardScaler\n",
        "\n",
        "# Select the three variables for the KNN model\n",
        "X = df[['char_freq_$:', 'capital_run_length_average:', 'word_freq_remove:']]\n",
        "y = df['spam']\n",
        "\n",
        "# Scale the features using StandardScaler\n",
        "scaler = StandardScaler()\n",
        "X_scaled = scaler.fit_transform(X)\n",
        "\n",
        "# Split the data into training and test sets\n",
        "X_train, X_test, y_train, y_test = train_test_split(X_scaled, y, test_size=0.3, random_state=42)\n",
        "\n"
      ],
      "metadata": {
        "id": "BITUQJDlKluL"
      },
      "execution_count": null,
      "outputs": []
    },
    {
      "cell_type": "markdown",
      "source": [
        "\n",
        "### 8.2 Describe why you chose any particular parameters for your model (e.g.- if you used KNN how did you decide to choose a specific value for k).  "
      ],
      "metadata": {
        "id": "MXCcgMxhplWv"
      }
    },
    {
      "cell_type": "code",
      "source": [
        "from sklearn.pipeline import make_pipeline\n",
        "from sklearn.model_selection import GridSearchCV\n",
        "\n",
        "knn_param_grid = {'n_neighbors': range(1, 10)}\n",
        "knn_grid = GridSearchCV(KNeighborsClassifier(), knn_param_grid).fit(X_train, y_train)\n",
        "\n",
        "print(\"Best Parameter: {}\".format(knn_grid.best_params_))\n",
        "print(\"Best Cross-Validation Score: {:.3f}\".format(knn_grid.best_score_))\n",
        "print(\"Test set Score: {:.3f}\".format(knn_grid.score(X_test, y_test)))"
      ],
      "metadata": {
        "colab": {
          "base_uri": "https://localhost:8080/"
        },
        "id": "AwVca3-kc1LW",
        "outputId": "e7a03a30-ce68-4790-9fbb-15655b2b117d"
      },
      "execution_count": 9,
      "outputs": [
        {
          "output_type": "stream",
          "name": "stdout",
          "text": [
            "Best Parameter: {'n_neighbors': 8}\n",
            "Best Cross-Validation Score: 0.854\n",
            "Test set Score: 0.851\n"
          ]
        }
      ]
    },
    {
      "cell_type": "markdown",
      "source": [
        "I used gridsearch to find out the best parameter for KNN--N = 8."
      ],
      "metadata": {
        "id": "1GDtEBgDHcNv"
      }
    },
    {
      "cell_type": "markdown",
      "source": [
        "### 8.3 Run the model and evaluate prediction error in two ways: A) On test data directly and B) using k-fold cross-validation.  "
      ],
      "metadata": {
        "id": "j9kDxH_6poR1"
      }
    },
    {
      "cell_type": "code",
      "source": [
        "from sklearn.model_selection import cross_val_score\n",
        "from sklearn.model_selection import KFold\n",
        "\n",
        "\n",
        "# Train the KNN model with k=8\n",
        "knn = KNeighborsClassifier(n_neighbors=8)\n",
        "knn.fit(X_train, y_train)\n",
        "print(\"Training set score: {:.3f}\".format(knn.score(X_train, y_train)))\n",
        "\n",
        "# Evaluate the model on the test set  \n",
        "test_acc = knn.score(X_test, y_test)\n",
        "print(\"Accuracy on test data: {:.2f}%\".format(test_acc * 100))\n",
        "\n",
        "from statistics import mean \n",
        "\n",
        "# Evaluate the model using k-fold cross-validation\n",
        "print(\"Mean Cross-Validation, Kfold: {:.3f}\".format(np.mean(cross_val_score(knn, X_train, y_train))))\n",
        "\n"
      ],
      "metadata": {
        "colab": {
          "base_uri": "https://localhost:8080/"
        },
        "id": "LuuJxT36dHrS",
        "outputId": "9830f746-78d3-401c-c71a-2760c8fb34e7"
      },
      "execution_count": 10,
      "outputs": [
        {
          "output_type": "stream",
          "name": "stderr",
          "text": [
            "/usr/local/lib/python3.8/dist-packages/sklearn/base.py:420: UserWarning: X does not have valid feature names, but KNeighborsClassifier was fitted with feature names\n",
            "  warnings.warn(\n"
          ]
        },
        {
          "output_type": "stream",
          "name": "stdout",
          "text": [
            "Training set score: 0.710\n",
            "Accuracy on test data: 84.65%\n",
            "Mean Cross-Validation, Kfold: 0.854\n"
          ]
        }
      ]
    },
    {
      "cell_type": "markdown",
      "source": [
        "# 9.1 Choose a second model from question four.  Using the same three variables in the dataset that you think will be good predictors of \"spam\". "
      ],
      "metadata": {
        "id": "srjoJ4QepqPR"
      }
    },
    {
      "cell_type": "markdown",
      "source": [
        "## logistic regression model"
      ],
      "metadata": {
        "id": "wfIxrAwzg_FR"
      }
    },
    {
      "cell_type": "markdown",
      "source": [
        "### 9.2 Describe why you chose any particular parameters for your model (e.g.- if you used KNN how did you decide to choose a specific value for k).  "
      ],
      "metadata": {
        "id": "mGCa0WRFpuh8"
      }
    },
    {
      "cell_type": "code",
      "source": [
        "from sklearn.linear_model import LogisticRegression\n",
        "from sklearn.linear_model import LogisticRegression\n",
        "from sklearn.model_selection import GridSearchCV\n",
        "from sklearn.model_selection import KFold\n",
        "\n",
        "# Define the parameter grid\n",
        "logreg_param_grid = {'C': [0.1, 1, 10], 'penalty': ['none', 'l1', 'l2']}\n",
        "\n",
        "# Create a logistic regression model\n",
        "logreg = LogisticRegression()\n",
        "\n",
        "# Create a grid search object\n",
        "logreg_grid = GridSearchCV(logreg, logreg_param_grid, cv=5)\n",
        "\n",
        "# Fit the grid search object to the data\n",
        "logreg_grid.fit(X_train, y_train)\n",
        "\n",
        "print(\"Best Parameter: {}\".format(logreg_grid.best_params_))\n",
        "print(\"Best Cross-Validation Score: {:.3f}\".format(logreg_grid.best_score_))\n",
        "print(\"Test set Score: {:.3f}\".format(logreg_grid.score(X_test, y_test)))\n"
      ],
      "metadata": {
        "colab": {
          "base_uri": "https://localhost:8080/"
        },
        "id": "7seDcwM2jFyN",
        "outputId": "44c30e2f-c6c2-4d21-eb07-a77302c70125"
      },
      "execution_count": null,
      "outputs": [
        {
          "output_type": "stream",
          "name": "stderr",
          "text": [
            "/usr/local/lib/python3.8/dist-packages/sklearn/linear_model/_logistic.py:1483: UserWarning: Setting penalty='none' will ignore the C and l1_ratio parameters\n",
            "  warnings.warn(\n",
            "/usr/local/lib/python3.8/dist-packages/sklearn/linear_model/_logistic.py:1483: UserWarning: Setting penalty='none' will ignore the C and l1_ratio parameters\n",
            "  warnings.warn(\n",
            "/usr/local/lib/python3.8/dist-packages/sklearn/linear_model/_logistic.py:1483: UserWarning: Setting penalty='none' will ignore the C and l1_ratio parameters\n",
            "  warnings.warn(\n",
            "/usr/local/lib/python3.8/dist-packages/sklearn/linear_model/_logistic.py:1483: UserWarning: Setting penalty='none' will ignore the C and l1_ratio parameters\n",
            "  warnings.warn(\n",
            "/usr/local/lib/python3.8/dist-packages/sklearn/linear_model/_logistic.py:1483: UserWarning: Setting penalty='none' will ignore the C and l1_ratio parameters\n",
            "  warnings.warn(\n"
          ]
        },
        {
          "output_type": "stream",
          "name": "stdout",
          "text": [
            "Best Parameter: {'C': 1, 'penalty': 'l2'}\n",
            "Best Cross-Validation Score: 0.841\n",
            "Test set Score: 0.823\n"
          ]
        },
        {
          "output_type": "stream",
          "name": "stderr",
          "text": [
            "/usr/local/lib/python3.8/dist-packages/sklearn/linear_model/_logistic.py:1483: UserWarning: Setting penalty='none' will ignore the C and l1_ratio parameters\n",
            "  warnings.warn(\n",
            "/usr/local/lib/python3.8/dist-packages/sklearn/linear_model/_logistic.py:1483: UserWarning: Setting penalty='none' will ignore the C and l1_ratio parameters\n",
            "  warnings.warn(\n",
            "/usr/local/lib/python3.8/dist-packages/sklearn/linear_model/_logistic.py:1483: UserWarning: Setting penalty='none' will ignore the C and l1_ratio parameters\n",
            "  warnings.warn(\n",
            "/usr/local/lib/python3.8/dist-packages/sklearn/linear_model/_logistic.py:1483: UserWarning: Setting penalty='none' will ignore the C and l1_ratio parameters\n",
            "  warnings.warn(\n",
            "/usr/local/lib/python3.8/dist-packages/sklearn/linear_model/_logistic.py:1483: UserWarning: Setting penalty='none' will ignore the C and l1_ratio parameters\n",
            "  warnings.warn(\n",
            "/usr/local/lib/python3.8/dist-packages/sklearn/model_selection/_validation.py:372: FitFailedWarning: \n",
            "15 fits failed out of a total of 45.\n",
            "The score on these train-test partitions for these parameters will be set to nan.\n",
            "If these failures are not expected, you can try to debug them by setting error_score='raise'.\n",
            "\n",
            "Below are more details about the failures:\n",
            "--------------------------------------------------------------------------------\n",
            "15 fits failed with the following error:\n",
            "Traceback (most recent call last):\n",
            "  File \"/usr/local/lib/python3.8/dist-packages/sklearn/model_selection/_validation.py\", line 680, in _fit_and_score\n",
            "    estimator.fit(X_train, y_train, **fit_params)\n",
            "  File \"/usr/local/lib/python3.8/dist-packages/sklearn/linear_model/_logistic.py\", line 1461, in fit\n",
            "    solver = _check_solver(self.solver, self.penalty, self.dual)\n",
            "  File \"/usr/local/lib/python3.8/dist-packages/sklearn/linear_model/_logistic.py\", line 447, in _check_solver\n",
            "    raise ValueError(\n",
            "ValueError: Solver lbfgs supports only 'l2' or 'none' penalties, got l1 penalty.\n",
            "\n",
            "  warnings.warn(some_fits_failed_message, FitFailedWarning)\n",
            "/usr/local/lib/python3.8/dist-packages/sklearn/model_selection/_search.py:969: UserWarning: One or more of the test scores are non-finite: [0.84006211        nan 0.83012422 0.84006211        nan 0.84068323\n",
            " 0.84006211        nan 0.84068323]\n",
            "  warnings.warn(\n"
          ]
        }
      ]
    },
    {
      "cell_type": "markdown",
      "source": [
        "I used gridsearch to find out the best parameter for logistic regression--{'C': 1, 'penalty': 'l2'}"
      ],
      "metadata": {
        "id": "UyiD9ZSDHmHd"
      }
    },
    {
      "cell_type": "markdown",
      "source": [
        "### 9.3  Run the model and evaluate prediction error in two ways: A) On test data directly and B) using k-fold cross-validation. "
      ],
      "metadata": {
        "id": "-FfYoOndp6e2"
      }
    },
    {
      "cell_type": "code",
      "source": [
        "# Train the logistic regression model\n",
        "logreg = LogisticRegression(C=0.1, penalty='none', random_state=42)\n",
        "\n",
        "# Train the model on the training data\n",
        "logreg.fit(X_train, y_train)\n",
        "print(\"Training set score: {:.3f}\".format(logreg.score(X_train, y_train)))\n",
        "\n",
        "# Evaluate the model on the test set  \n",
        "test_acc = logreg.score(X_test, y_test)\n",
        "print(\"Accuracy on test data: {:.2f}%\".format(test_acc * 100))\n",
        "\n",
        "from statistics import mean \n",
        "\n",
        "# Evaluate the model using k-fold cross-validation\n",
        "print(\"Mean Cross-Validation, Kfold: {:.3f}\".format(np.mean(cross_val_score(logreg, X_train, y_train))))\n",
        "\n"
      ],
      "metadata": {
        "colab": {
          "base_uri": "https://localhost:8080/"
        },
        "id": "4A9jzK_GhJWB",
        "outputId": "035423fe-9ef7-44a6-b2fa-f772486f8ea7"
      },
      "execution_count": null,
      "outputs": [
        {
          "output_type": "stream",
          "name": "stderr",
          "text": [
            "/usr/local/lib/python3.8/dist-packages/sklearn/linear_model/_logistic.py:1483: UserWarning: Setting penalty='none' will ignore the C and l1_ratio parameters\n",
            "  warnings.warn(\n"
          ]
        },
        {
          "output_type": "stream",
          "name": "stdout",
          "text": [
            "Training set score: 0.839\n",
            "Accuracy on test data: 82.91%\n",
            "Mean Cross-Validation, Kfold: 0.840\n"
          ]
        },
        {
          "output_type": "stream",
          "name": "stderr",
          "text": [
            "/usr/local/lib/python3.8/dist-packages/sklearn/linear_model/_logistic.py:1483: UserWarning: Setting penalty='none' will ignore the C and l1_ratio parameters\n",
            "  warnings.warn(\n",
            "/usr/local/lib/python3.8/dist-packages/sklearn/linear_model/_logistic.py:1483: UserWarning: Setting penalty='none' will ignore the C and l1_ratio parameters\n",
            "  warnings.warn(\n",
            "/usr/local/lib/python3.8/dist-packages/sklearn/linear_model/_logistic.py:1483: UserWarning: Setting penalty='none' will ignore the C and l1_ratio parameters\n",
            "  warnings.warn(\n",
            "/usr/local/lib/python3.8/dist-packages/sklearn/linear_model/_logistic.py:1483: UserWarning: Setting penalty='none' will ignore the C and l1_ratio parameters\n",
            "  warnings.warn(\n",
            "/usr/local/lib/python3.8/dist-packages/sklearn/linear_model/_logistic.py:1483: UserWarning: Setting penalty='none' will ignore the C and l1_ratio parameters\n",
            "  warnings.warn(\n"
          ]
        }
      ]
    },
    {
      "cell_type": "markdown",
      "source": [
        "### 9.4 Did this model predict test data better than your previous model?"
      ],
      "metadata": {
        "id": "EoFIfxinrriO"
      }
    },
    {
      "cell_type": "markdown",
      "source": [
        "No. The previous KNN model's accuracy on test data is 85.23%, and Mean Cross-Validation, Kfold score is 0.856, both higher than this logistic regression model."
      ],
      "metadata": {
        "id": "8froNd11gqhq"
      }
    },
    {
      "cell_type": "markdown",
      "source": [
        "# 10.1 Choose a third model from question four.  Using the same three variables in the dataset that you think will be good predictors of \"spam\". "
      ],
      "metadata": {
        "id": "QyQr5vVyqBKC"
      }
    },
    {
      "cell_type": "markdown",
      "source": [
        "##Decision Tree Classifier"
      ],
      "metadata": {
        "id": "hZgyk7uZpMLZ"
      }
    },
    {
      "cell_type": "markdown",
      "source": [
        "### 10.2 Describe why you chose any particular parameters for your model (e.g.- if you used KNN how did you decide to choose a specific value for k). "
      ],
      "metadata": {
        "id": "8YF_LD3LqCpo"
      }
    },
    {
      "cell_type": "code",
      "source": [
        "from sklearn.tree import DecisionTreeClassifier\n",
        "from sklearn.model_selection import GridSearchCV\n",
        "from sklearn.model_selection import KFold\n",
        "\n",
        "# create a Decision Tree Classifier object\n",
        "dt = DecisionTreeClassifier(random_state=42)\n",
        "\n",
        "# define the hyperparameter grid\n",
        "dt_params = {'criterion': ['gini', 'entropy'],\n",
        "          'max_depth': [3, 4, 5, 6, 7, 8, 9, 10],\n",
        "          'min_samples_split': [2, 3, 4, 5, 6, 7, 8, 9, 10]}\n",
        "\n",
        "# create a GridSearchCV object\n",
        "dt_grid = GridSearchCV(estimator=dt, param_grid=dt_params, cv=5, n_jobs=-1)\n",
        "\n",
        "# fit the GridSearchCV object to the data\n",
        "dt_grid.fit(X_train, y_train)\n",
        "\n",
        "print(\"Best Parameter: {}\".format(dt_grid.best_params_))\n",
        "print(\"Best Cross-Validation Score: {:.3f}\".format(dt_grid.best_score_))\n",
        "print(\"Test set Score: {:.3f}\".format(dt_grid.score(X_test, y_test)))"
      ],
      "metadata": {
        "colab": {
          "base_uri": "https://localhost:8080/"
        },
        "id": "yPll4E4po58a",
        "outputId": "7b11bdb6-318b-46e5-ff76-ca63e3c2f957"
      },
      "execution_count": null,
      "outputs": [
        {
          "output_type": "stream",
          "name": "stdout",
          "text": [
            "Best Parameter: {'criterion': 'gini', 'max_depth': 4, 'min_samples_split': 2}\n",
            "Best Cross-Validation Score: 0.858\n",
            "Test set Score: 0.839\n"
          ]
        }
      ]
    },
    {
      "cell_type": "markdown",
      "source": [
        "I used gridsearch to find out the best parameter for decision tree-{'criterion': 'gini', 'max_depth': 4, 'min_samples_split': 2}"
      ],
      "metadata": {
        "id": "l56OdSfzHybB"
      }
    },
    {
      "cell_type": "markdown",
      "source": [
        "### 10.3 Run the model and evaluate prediction error in two ways: A) On test data directly and B) using k-fold cross-validation. "
      ],
      "metadata": {
        "id": "1qEr8KgHqGl3"
      }
    },
    {
      "cell_type": "code",
      "source": [
        "# Create a decision tree classifier with the given parameters\n",
        "clf = DecisionTreeClassifier(criterion='gini', max_depth=4, min_samples_split=2)\n",
        "\n",
        "# Train the model on the training data\n",
        "clf.fit(X_train, y_train)\n",
        "print(\"Training set score: {:.3f}\".format(clf.score(X_train, y_train)))\n",
        "\n",
        "# Evaluate the model on the test set  \n",
        "test_acc = clf.score(X_test, y_test)\n",
        "print(\"Accuracy on test data: {:.2f}%\".format(test_acc * 100))\n",
        "\n",
        "from statistics import mean \n",
        "\n",
        "# Evaluate the model using k-fold cross-validation\n",
        "print(\"Mean Cross-Validation, Kfold: {:.3f}\".format(np.mean(cross_val_score(clf, X_train, y_train))))\n"
      ],
      "metadata": {
        "colab": {
          "base_uri": "https://localhost:8080/"
        },
        "id": "PX7Ff9hMrP2v",
        "outputId": "aa255a1c-e04d-40a1-9692-9c3db5f22727"
      },
      "execution_count": null,
      "outputs": [
        {
          "output_type": "stream",
          "name": "stdout",
          "text": [
            "Training set score: 0.864\n",
            "Accuracy on test data: 83.85%\n",
            "Mean Cross-Validation, Kfold: 0.858\n"
          ]
        }
      ]
    },
    {
      "cell_type": "markdown",
      "source": [
        "### 10.4 Did this model predict test data better than your previous model?"
      ],
      "metadata": {
        "id": "9YHCDyFkrYYY"
      }
    },
    {
      "cell_type": "markdown",
      "source": [
        "The score of previous two models are as follows:\n",
        "\n",
        "**KNN:**\n",
        "\n",
        "Training set score: 0.873\n",
        "\n",
        "Accuracy on test data: 85.23%\n",
        "\n",
        "Mean Cross-Validation, Kfold: 0.856\n",
        "\n",
        "**Logistic Regression:**\n",
        "\n",
        "Training set score: 0.839\n",
        "\n",
        "Accuracy on test data: 82.91%\n",
        "\n",
        "Mean Cross-Validation, Kfold: 0.840\n",
        "\n",
        "So decision tree classifier is better than logistic regression, slightly better than KNN on cv score but slightly worse than kNN on test data score.\n"
      ],
      "metadata": {
        "id": "LhNjrA1ygdQA"
      }
    },
    {
      "cell_type": "markdown",
      "source": [
        "# 11.1 Choose a fourth model from question four.  Using the same three variables in the dataset that you think will be good predictors of \"spam\".  "
      ],
      "metadata": {
        "id": "RPwAoH5kqMy0"
      }
    },
    {
      "cell_type": "markdown",
      "source": [
        "## Random Forest"
      ],
      "metadata": {
        "id": "SBqzPc3cYKNK"
      }
    },
    {
      "cell_type": "markdown",
      "source": [
        "### 11.2 Describe why you chose any particular parameters for your model (e.g.- if you used KNN how did you decide to choose a specific value for k). "
      ],
      "metadata": {
        "id": "KnqsZDhzqOeW"
      }
    },
    {
      "cell_type": "code",
      "source": [
        "from sklearn.ensemble import RandomForestClassifier\n",
        "from sklearn.ensemble import RandomForestClassifier\n",
        "from sklearn.model_selection import GridSearchCV\n",
        "\n",
        "# Define the parameter grid to search over\n",
        "param_grid = {\n",
        "    'n_estimators': [50, 100, 200],\n",
        "    'max_depth': [5, 10, 20],\n",
        "    'min_samples_split': [2, 5, 10],\n",
        "    'min_samples_leaf': [1, 2, 4]\n",
        "}\n",
        "\n",
        "# Create a random forest classifier object\n",
        "rf_clf = RandomForestClassifier()\n",
        "\n",
        "# Create a GridSearchCV object with 5-fold cross-validation\n",
        "rf_grid = GridSearchCV(rf_clf, param_grid, cv=5, n_jobs=-1)\n",
        "\n",
        "# Fit the GridSearchCV object to the data\n",
        "rf_grid.fit(X_train, y_train)\n",
        "\n",
        "print(\"Best Parameter: {}\".format(rf_grid.best_params_))\n",
        "print(\"Best Cross-Validation Score: {:.3f}\".format(rf_grid.best_score_))\n",
        "print(\"Test set Score: {:.3f}\".format(rf_grid.score(X_test, y_test)))"
      ],
      "metadata": {
        "colab": {
          "base_uri": "https://localhost:8080/"
        },
        "id": "jCxL1IZDt5BL",
        "outputId": "476e9e45-f7ae-4160-d57e-bf4a9bd539d8"
      },
      "execution_count": null,
      "outputs": [
        {
          "output_type": "stream",
          "name": "stdout",
          "text": [
            "Best Parameter: {'max_depth': 10, 'min_samples_leaf': 1, 'min_samples_split': 2, 'n_estimators': 50}\n",
            "Best Cross-Validation Score: 0.867\n",
            "Test set Score: 0.852\n"
          ]
        }
      ]
    },
    {
      "cell_type": "markdown",
      "source": [
        " used gridsearch to find out the best parameter for random forest--{'max_depth': 10, 'min_samples_leaf': 1, 'min_samples_split': 2, 'n_estimators': 50}"
      ],
      "metadata": {
        "id": "8Ki8B109IUxX"
      }
    },
    {
      "cell_type": "markdown",
      "source": [
        "### 11.3 Run the model and evaluate prediction error in two ways: A) On test data directly and B) using k-fold cross-validation."
      ],
      "metadata": {
        "id": "SbIR8NQxqSk1"
      }
    },
    {
      "cell_type": "code",
      "source": [
        "# Create a decision tree classifier with the given parameters\n",
        "rf = RandomForestClassifier(max_depth=5, min_samples_leaf=1, min_samples_split=10, n_estimators=200, random_state=42)\n",
        "\n",
        "# Fit the model to the training data\n",
        "rf.fit(X_train, y_train)\n",
        "\n",
        "# Train the model on the training data\n",
        "rf.fit(X_train, y_train)\n",
        "print(\"Training set score: {:.3f}\".format(rf.score(X_train, y_train)))\n",
        "\n",
        "# Evaluate the model on the test set  \n",
        "test_acc = rf.score(X_test, y_test)\n",
        "print(\"Accuracy on test data: {:.2f}%\".format(test_acc * 100))\n",
        "\n",
        "from statistics import mean \n",
        "\n",
        "# Evaluate the model using k-fold cross-validation\n",
        "print(\"Mean Cross-Validation, Kfold: {:.3f}\".format(np.mean(cross_val_score(rf, X_train, y_train))))\n"
      ],
      "metadata": {
        "colab": {
          "base_uri": "https://localhost:8080/"
        },
        "id": "yycjT8PtYRJx",
        "outputId": "e7f3eb57-0d05-42f2-cdc9-186b96f4b5fd"
      },
      "execution_count": null,
      "outputs": [
        {
          "output_type": "stream",
          "name": "stdout",
          "text": [
            "Accuracy on test data: 0.8515568428674873\n",
            "Training set score: 0.864\n",
            "Accuracy on test data: 85.16%\n",
            "Mean Cross-Validation, Kfold: 0.864\n"
          ]
        }
      ]
    },
    {
      "cell_type": "markdown",
      "source": [
        "### 11.4  Evaluate prediction error, did this model predict better than your previous models?"
      ],
      "metadata": {
        "id": "75bd4I4or223"
      }
    },
    {
      "cell_type": "markdown",
      "source": [
        "The scores of previous models are as follows:\n",
        "\n",
        "**KNN:**\n",
        "Training set score: 0.873\n",
        "\n",
        "Accuracy on test data: 85.23%\n",
        "\n",
        "Mean Cross-Validation, Kfold: 0.856\n",
        "\n",
        "**Logistic Regression:**\n",
        "Training set score: 0.839\n",
        "\n",
        "Accuracy on test data: 82.91%\n",
        "\n",
        "Mean Cross-Validation, Kfold: 0.840\n",
        "\n",
        "**Decision tree classifter:**\n",
        "Training set score: 0.864\n",
        "\n",
        "Accuracy on test data: 83.85%\n",
        "\n",
        "Mean Cross-Validation, Kfold: 0.858\n",
        "\n",
        "So random forest model has better performance than decision tree and logistic regression, also slightly better than KNN on cv score, but a slightly lower test score than KNN."
      ],
      "metadata": {
        "id": "CgyxvxhGgbUw"
      }
    },
    {
      "cell_type": "markdown",
      "source": [
        "# 12. Now rerun your best model from questions 8 through 11, but this time add three new variables to the model that you think will increase prediction accuracy.   Did this model predict test data better than your previous models?  "
      ],
      "metadata": {
        "id": "dw-Md8j2qV-P"
      }
    },
    {
      "cell_type": "markdown",
      "source": [
        "For this dataset, cross validation score is more reliable. So I will use random forest model. This time I add three new variables: `\"word_freq_order:', \"word_freq_our:\", \"word_freq_mail:\"`"
      ],
      "metadata": {
        "id": "7CjExg2u6U1y"
      }
    },
    {
      "cell_type": "code",
      "source": [
        "from sklearn.preprocessing import StandardScaler\n",
        "from sklearn.tree import DecisionTreeClassifier\n",
        "\n",
        "# Select the three variables for the logistic regression model\n",
        "Xn = df[['char_freq_$:', 'capital_run_length_average:', 'word_freq_remove:', 'word_freq_order:', \"word_freq_our:\", \"word_freq_mail:\"]]\n",
        "yn = df['spam']\n",
        "\n",
        "# Scale the features using StandardScaler\n",
        "scaler = StandardScaler()\n",
        "Xn_scaled = scaler.fit_transform(Xn)\n",
        "\n",
        "# Split the data into training and test sets\n",
        "X_train_n, X_test_n, y_train_n, y_test_n = train_test_split(Xn_scaled, yn, test_size=0.3, random_state=42)"
      ],
      "metadata": {
        "id": "hVM7CudidYtx"
      },
      "execution_count": null,
      "outputs": []
    },
    {
      "cell_type": "code",
      "source": [
        "from sklearn.ensemble import RandomForestClassifier\n",
        "from sklearn.model_selection import GridSearchCV\n",
        "\n",
        "# Define the parameter grid to search over\n",
        "param_grid = {\n",
        "    'n_estimators': [50, 100, 200],\n",
        "    'max_depth': [5, 10, 20],\n",
        "    'min_samples_split': [2, 5, 10],\n",
        "    'min_samples_leaf': [1, 2, 4]\n",
        "}\n",
        "\n",
        "# Create a random forest classifier object\n",
        "rf_clf_n = RandomForestClassifier()\n",
        "\n",
        "# Create a GridSearchCV object with 5-fold cross-validation\n",
        "rf_grid_n = GridSearchCV(rf_clf, param_grid, cv=5, n_jobs=-1)\n",
        "\n",
        "# Fit the GridSearchCV object to the data\n",
        "rf_grid_n.fit(X_train_n, y_train_n)\n",
        "\n",
        "print(\"Best Parameter: {}\".format(rf_grid_n.best_params_))\n",
        "print(\"Best Cross-Validation Score: {:.3f}\".format(rf_grid_n.best_score_))\n",
        "print(\"Test set Score: {:.3f}\".format(rf_grid_n.score(X_test_n, y_test_n)))"
      ],
      "metadata": {
        "colab": {
          "base_uri": "https://localhost:8080/"
        },
        "id": "BkAA0siev7PW",
        "outputId": "ea0b42c8-c928-4b62-ba7d-69c23ef86c3d"
      },
      "execution_count": null,
      "outputs": [
        {
          "output_type": "stream",
          "name": "stdout",
          "text": [
            "Best Parameter: {'max_depth': 10, 'min_samples_leaf': 1, 'min_samples_split': 2, 'n_estimators': 50}\n",
            "Best Cross-Validation Score: 0.882\n",
            "Test set Score: 0.870\n"
          ]
        }
      ]
    },
    {
      "cell_type": "code",
      "source": [
        "# Create a decision tree classifier with the given parameters\n",
        "rfn = RandomForestClassifier(max_depth=10, min_samples_leaf=1, min_samples_split=2, n_estimators=50, random_state=42)\n",
        "\n",
        "# Fit the model to the training data\n",
        "rfn.fit(X_train_n, y_train_n)\n",
        "\n",
        "# Train the model on the training data\n",
        "rfn.fit(X_train_n, y_train_n)\n",
        "print(\"Training set score: {:.3f}\".format(rfn.score(X_train_n, y_train_n)))\n",
        "\n",
        "# Evaluate the model on the test set  \n",
        "test_acc = rfn.score(X_test_n, y_test_n)\n",
        "print(\"Accuracy on test data: {:.2f}%\".format(test_acc * 100))\n",
        "\n",
        "from statistics import mean \n",
        "\n",
        "# Evaluate the model using k-fold cross-validation\n",
        "print(\"Mean Cross-Validation, Kfold: {:.3f}\".format(np.mean(cross_val_score(rfn, X_train_n, y_train_n))))\n"
      ],
      "metadata": {
        "colab": {
          "base_uri": "https://localhost:8080/"
        },
        "id": "ghathUREwGTp",
        "outputId": "f45884ed-40ab-4723-9ea7-4325f1887a0c"
      },
      "execution_count": null,
      "outputs": [
        {
          "output_type": "stream",
          "name": "stdout",
          "text": [
            "Accuracy on test data: 0.8740043446777698\n",
            "Training set score: 0.928\n",
            "Accuracy on test data: 87.40%\n",
            "Mean Cross-Validation, Kfold: 0.882\n"
          ]
        }
      ]
    },
    {
      "cell_type": "markdown",
      "source": [
        "Either test dataset score or cross validation score is higher than all the previous models.\n",
        "\n",
        "Before adding the three new variables:\n",
        "\n",
        "**KNN:**\n",
        "Accuracy on test data: 85.23%\n",
        "\n",
        "Mean Cross-Validation, Kfold: 0.856\n",
        "\n",
        "\n",
        "**Logistic Regression:**\n",
        "Accuracy on test data: 82.91%\n",
        "\n",
        "Mean Cross-Validation, Kfold: 0.840\n",
        "\n",
        "**Decision Tree Classifier:**\n",
        "Accuracy on test data: 83.85%\n",
        "\n",
        "Mean Cross-Validation, Kfold: 0.858\n",
        "\n",
        "\n",
        "**Random Forest:**\n",
        "Accuracy on test data: 85.16%\n",
        "\n",
        "Mean Cross-Validation, Kfold: 0.864\n",
        "\n",
        "It's obvious that random forest model with three new varibles has the highest scores:\n",
        "Accuracy on test data: 87.40%\n",
        "\n",
        "Mean Cross-Validation, Kfold: 0.882"
      ],
      "metadata": {
        "id": "1zzDoJ1AIux-"
      }
    },
    {
      "cell_type": "markdown",
      "source": [
        "# 13.1 Rerun all your other models with this final set of six variables, evaluate prediction error."
      ],
      "metadata": {
        "id": "1taV2oIQqZXW"
      }
    },
    {
      "cell_type": "markdown",
      "source": [
        "## 13.1 A KNN"
      ],
      "metadata": {
        "id": "JCiJ6Bz3q1af"
      }
    },
    {
      "cell_type": "code",
      "source": [
        "from sklearn.pipeline import make_pipeline\n",
        "from sklearn.model_selection import GridSearchCV\n",
        "\n",
        "knn_param_grid = {'n_neighbors': range(1, 10)}\n",
        "knn_grid_n = GridSearchCV(KNeighborsClassifier(), knn_param_grid).fit(X_train_n, y_train_n)\n",
        "\n",
        "print(\"Best Parameter: {}\".format(knn_grid_n.best_params_))\n",
        "print(\"Best Cross-Validation Score: {:.3f}\".format(knn_grid_n.best_score_))\n",
        "print(\"Test set Score: {:.3f}\".format(knn_grid_n.score(X_test_n, y_test_n)))"
      ],
      "metadata": {
        "colab": {
          "base_uri": "https://localhost:8080/"
        },
        "id": "GZ0rPaPY9O0l",
        "outputId": "83388e73-026c-449a-e068-ca02e2ed7599"
      },
      "execution_count": null,
      "outputs": [
        {
          "output_type": "stream",
          "name": "stdout",
          "text": [
            "Best Parameter: {'n_neighbors': 5}\n",
            "Best Cross-Validation Score: 0.855\n",
            "Test set Score: 0.844\n"
          ]
        }
      ]
    },
    {
      "cell_type": "code",
      "source": [
        "from sklearn.model_selection import cross_val_score\n",
        "from sklearn.model_selection import KFold\n",
        "\n",
        "\n",
        "# Train the KNN model with k=5\n",
        "knn_n = KNeighborsClassifier(n_neighbors=5)\n",
        "knn_n.fit(X_train_n, y_train_n)\n",
        "print(\"Training set score: {:.3f}\".format(knn_n.score(X_train_n, y_train_n)))\n",
        "\n",
        "# Evaluate the model on the test set  \n",
        "test_acc = knn_n.score(X_test_n, y_test_n)\n",
        "print(\"Accuracy on test data: {:.2f}%\".format(test_acc * 100))\n",
        "\n",
        "from statistics import mean \n",
        "\n",
        "# Evaluate the model using k-fold cross-validation\n",
        "print(\"Mean Cross-Validation, Kfold: {:.3f}\".format(np.mean(cross_val_score(knn_n, X_train_n, y_train_n))))\n",
        "\n"
      ],
      "metadata": {
        "colab": {
          "base_uri": "https://localhost:8080/"
        },
        "id": "rPRCNeXd9TKu",
        "outputId": "787d00ab-7a63-4aba-def8-cbb8b7837dbd"
      },
      "execution_count": null,
      "outputs": [
        {
          "output_type": "stream",
          "name": "stdout",
          "text": [
            "Training set score: 0.890\n",
            "Accuracy on test data: 84.43%\n",
            "Mean Cross-Validation, Kfold: 0.855\n"
          ]
        }
      ]
    },
    {
      "cell_type": "markdown",
      "source": [
        "## 13.1 B Logistic Regression"
      ],
      "metadata": {
        "id": "pxZqBU2rq72p"
      }
    },
    {
      "cell_type": "code",
      "source": [
        "from sklearn.linear_model import LogisticRegression\n",
        "from sklearn.linear_model import LogisticRegression\n",
        "from sklearn.model_selection import GridSearchCV\n",
        "from sklearn.model_selection import KFold\n",
        "\n",
        "# Define the parameter grid\n",
        "logreg_param_grid = {'C': [0.1, 1, 10], 'penalty': ['none', 'l1', 'l2']}\n",
        "\n",
        "# Create a logistic regression model\n",
        "logreg_n = LogisticRegression()\n",
        "\n",
        "# Create a grid search object\n",
        "logreg_grid_n = GridSearchCV(logreg_n, logreg_param_grid, cv=5)\n",
        "\n",
        "# Fit the grid search object to the data\n",
        "logreg_grid_n.fit(X_train_n, y_train_n)\n",
        "\n",
        "print(\"Best Parameter: {}\".format(logreg_grid_n.best_params_))\n",
        "print(\"Best Cross-Validation Score: {:.3f}\".format(logreg_grid_n.best_score_))\n",
        "print(\"Test set Score: {:.3f}\".format(logreg_grid_n.score(X_test_n, y_test_n)))\n"
      ],
      "metadata": {
        "colab": {
          "base_uri": "https://localhost:8080/"
        },
        "id": "VYGQ60Jt9YgN",
        "outputId": "f8b238c9-985e-47cb-8d14-a974631fedf2"
      },
      "execution_count": null,
      "outputs": [
        {
          "output_type": "stream",
          "name": "stderr",
          "text": [
            "/usr/local/lib/python3.8/dist-packages/sklearn/linear_model/_logistic.py:1483: UserWarning: Setting penalty='none' will ignore the C and l1_ratio parameters\n",
            "  warnings.warn(\n",
            "/usr/local/lib/python3.8/dist-packages/sklearn/linear_model/_logistic.py:1483: UserWarning: Setting penalty='none' will ignore the C and l1_ratio parameters\n",
            "  warnings.warn(\n",
            "/usr/local/lib/python3.8/dist-packages/sklearn/linear_model/_logistic.py:1483: UserWarning: Setting penalty='none' will ignore the C and l1_ratio parameters\n",
            "  warnings.warn(\n",
            "/usr/local/lib/python3.8/dist-packages/sklearn/linear_model/_logistic.py:1483: UserWarning: Setting penalty='none' will ignore the C and l1_ratio parameters\n",
            "  warnings.warn(\n",
            "/usr/local/lib/python3.8/dist-packages/sklearn/linear_model/_logistic.py:1483: UserWarning: Setting penalty='none' will ignore the C and l1_ratio parameters\n",
            "  warnings.warn(\n",
            "/usr/local/lib/python3.8/dist-packages/sklearn/linear_model/_logistic.py:1483: UserWarning: Setting penalty='none' will ignore the C and l1_ratio parameters\n",
            "  warnings.warn(\n",
            "/usr/local/lib/python3.8/dist-packages/sklearn/linear_model/_logistic.py:1483: UserWarning: Setting penalty='none' will ignore the C and l1_ratio parameters\n",
            "  warnings.warn(\n",
            "/usr/local/lib/python3.8/dist-packages/sklearn/linear_model/_logistic.py:1483: UserWarning: Setting penalty='none' will ignore the C and l1_ratio parameters\n",
            "  warnings.warn(\n",
            "/usr/local/lib/python3.8/dist-packages/sklearn/linear_model/_logistic.py:1483: UserWarning: Setting penalty='none' will ignore the C and l1_ratio parameters\n",
            "  warnings.warn(\n",
            "/usr/local/lib/python3.8/dist-packages/sklearn/linear_model/_logistic.py:1483: UserWarning: Setting penalty='none' will ignore the C and l1_ratio parameters\n",
            "  warnings.warn(\n"
          ]
        },
        {
          "output_type": "stream",
          "name": "stdout",
          "text": [
            "Best Parameter: {'C': 0.1, 'penalty': 'none'}\n",
            "Best Cross-Validation Score: 0.841\n",
            "Test set Score: 0.836\n"
          ]
        },
        {
          "output_type": "stream",
          "name": "stderr",
          "text": [
            "/usr/local/lib/python3.8/dist-packages/sklearn/model_selection/_validation.py:372: FitFailedWarning: \n",
            "15 fits failed out of a total of 45.\n",
            "The score on these train-test partitions for these parameters will be set to nan.\n",
            "If these failures are not expected, you can try to debug them by setting error_score='raise'.\n",
            "\n",
            "Below are more details about the failures:\n",
            "--------------------------------------------------------------------------------\n",
            "15 fits failed with the following error:\n",
            "Traceback (most recent call last):\n",
            "  File \"/usr/local/lib/python3.8/dist-packages/sklearn/model_selection/_validation.py\", line 680, in _fit_and_score\n",
            "    estimator.fit(X_train, y_train, **fit_params)\n",
            "  File \"/usr/local/lib/python3.8/dist-packages/sklearn/linear_model/_logistic.py\", line 1461, in fit\n",
            "    solver = _check_solver(self.solver, self.penalty, self.dual)\n",
            "  File \"/usr/local/lib/python3.8/dist-packages/sklearn/linear_model/_logistic.py\", line 447, in _check_solver\n",
            "    raise ValueError(\n",
            "ValueError: Solver lbfgs supports only 'l2' or 'none' penalties, got l1 penalty.\n",
            "\n",
            "  warnings.warn(some_fits_failed_message, FitFailedWarning)\n",
            "/usr/local/lib/python3.8/dist-packages/sklearn/model_selection/_search.py:969: UserWarning: One or more of the test scores are non-finite: [0.84130435        nan 0.82857143 0.84130435        nan 0.8378882\n",
            " 0.84130435        nan 0.84068323]\n",
            "  warnings.warn(\n",
            "/usr/local/lib/python3.8/dist-packages/sklearn/linear_model/_logistic.py:1483: UserWarning: Setting penalty='none' will ignore the C and l1_ratio parameters\n",
            "  warnings.warn(\n"
          ]
        }
      ]
    },
    {
      "cell_type": "code",
      "source": [
        "# Train the logistic regression model\n",
        "logreg_n = LogisticRegression(C=0.1, penalty='none', random_state=42)\n",
        "\n",
        "# Train the model on the training data\n",
        "logreg_n.fit(X_train_n, y_train_n)\n",
        "print(\"Training set score: {:.3f}\".format(logreg_n.score(X_train_n, y_train_n)))\n",
        "\n",
        "# Evaluate the model on the test set  \n",
        "test_acc = logreg_n.score(X_test_n, y_test_n)\n",
        "print(\"Accuracy on test data: {:.2f}%\".format(test_acc * 100))\n",
        "\n",
        "from statistics import mean \n",
        "\n",
        "# Evaluate the model using k-fold cross-validation\n",
        "print(\"Mean Cross-Validation, Kfold: {:.3f}\".format(np.mean(cross_val_score(logreg_n, X_train_n, y_train_n))))\n",
        "\n"
      ],
      "metadata": {
        "colab": {
          "base_uri": "https://localhost:8080/"
        },
        "id": "k26PuJde9Yuk",
        "outputId": "a6d712b4-04e4-434f-9c6b-fc21a9d4ad4c"
      },
      "execution_count": null,
      "outputs": [
        {
          "output_type": "stream",
          "name": "stdout",
          "text": [
            "Training set score: 0.840\n",
            "Accuracy on test data: 83.64%\n",
            "Mean Cross-Validation, Kfold: 0.841\n"
          ]
        },
        {
          "output_type": "stream",
          "name": "stderr",
          "text": [
            "/usr/local/lib/python3.8/dist-packages/sklearn/linear_model/_logistic.py:1483: UserWarning: Setting penalty='none' will ignore the C and l1_ratio parameters\n",
            "  warnings.warn(\n",
            "/usr/local/lib/python3.8/dist-packages/sklearn/linear_model/_logistic.py:1483: UserWarning: Setting penalty='none' will ignore the C and l1_ratio parameters\n",
            "  warnings.warn(\n",
            "/usr/local/lib/python3.8/dist-packages/sklearn/linear_model/_logistic.py:1483: UserWarning: Setting penalty='none' will ignore the C and l1_ratio parameters\n",
            "  warnings.warn(\n",
            "/usr/local/lib/python3.8/dist-packages/sklearn/linear_model/_logistic.py:1483: UserWarning: Setting penalty='none' will ignore the C and l1_ratio parameters\n",
            "  warnings.warn(\n",
            "/usr/local/lib/python3.8/dist-packages/sklearn/linear_model/_logistic.py:1483: UserWarning: Setting penalty='none' will ignore the C and l1_ratio parameters\n",
            "  warnings.warn(\n",
            "/usr/local/lib/python3.8/dist-packages/sklearn/linear_model/_logistic.py:1483: UserWarning: Setting penalty='none' will ignore the C and l1_ratio parameters\n",
            "  warnings.warn(\n"
          ]
        }
      ]
    },
    {
      "cell_type": "markdown",
      "source": [
        "## 13.1 C Tree Classcifer"
      ],
      "metadata": {
        "id": "3cOWYvrPrA9-"
      }
    },
    {
      "cell_type": "code",
      "source": [
        "from sklearn.tree import DecisionTreeClassifier\n",
        "from sklearn.model_selection import GridSearchCV\n",
        "from sklearn.model_selection import KFold\n",
        "\n",
        "# create a Decision Tree Classifier object\n",
        "dtn = DecisionTreeClassifier(random_state=42)\n",
        "\n",
        "# define the hyperparameter grid\n",
        "dt_params = {'criterion': ['gini', 'entropy'],\n",
        "          'max_depth': [3, 4, 5, 6, 7, 8, 9, 10],\n",
        "          'min_samples_split': [2, 3, 4, 5, 6, 7, 8, 9, 10]}\n",
        "\n",
        "# create a GridSearchCV object\n",
        "dtn_grid = GridSearchCV(estimator=dtn, param_grid=dt_params, cv=5, n_jobs=-1)\n",
        "\n",
        "# fit the GridSearchCV object to the data\n",
        "dtn_grid.fit(X_train_n, y_train_n)\n",
        "\n",
        "print(\"Best Parameter: {}\".format(dtn_grid.best_params_))\n",
        "print(\"Best Cross-Validation Score: {:.3f}\".format(dtn_grid.best_score_))\n",
        "print(\"Test set Score: {:.3f}\".format(dtn_grid.score(X_test_n, y_test_n)))"
      ],
      "metadata": {
        "colab": {
          "base_uri": "https://localhost:8080/"
        },
        "id": "mUbYLZEJ9g1s",
        "outputId": "2c60099d-5d25-4587-e5cc-ab7526f208ee"
      },
      "execution_count": null,
      "outputs": [
        {
          "output_type": "stream",
          "name": "stdout",
          "text": [
            "Best Parameter: {'criterion': 'entropy', 'max_depth': 6, 'min_samples_split': 2}\n",
            "Best Cross-Validation Score: 0.866\n",
            "Test set Score: 0.854\n"
          ]
        }
      ]
    },
    {
      "cell_type": "code",
      "source": [
        "# Create a decision tree classifier with the given parameters\n",
        "clfn = DecisionTreeClassifier(criterion='entropy', max_depth=6, min_samples_split=2)\n",
        "\n",
        "# Train the model on the training data\n",
        "clfn.fit(X_train_n, y_train_n)\n",
        "print(\"Training set score: {:.3f}\".format(clfn.score(X_train_n, y_train_n)))\n",
        "\n",
        "# Evaluate the model on the test set  \n",
        "test_acc = clfn.score(X_test_n, y_test_n)\n",
        "print(\"Accuracy on test data: {:.2f}%\".format(test_acc * 100))\n",
        "\n",
        "from statistics import mean \n",
        "\n",
        "# Evaluate the model using k-fold cross-validation\n",
        "print(\"Mean Cross-Validation, Kfold: {:.3f}\".format(np.mean(cross_val_score(clfn, X_train_n, y_train_n))))\n"
      ],
      "metadata": {
        "colab": {
          "base_uri": "https://localhost:8080/"
        },
        "id": "0X__9AVJ9jw7",
        "outputId": "3bd08835-af51-4545-b18d-0e7aea98acc0"
      },
      "execution_count": null,
      "outputs": [
        {
          "output_type": "stream",
          "name": "stdout",
          "text": [
            "Training set score: 0.884\n",
            "Accuracy on test data: 85.37%\n",
            "Mean Cross-Validation, Kfold: 0.865\n"
          ]
        }
      ]
    },
    {
      "cell_type": "markdown",
      "source": [
        "# 13.2  and choose a final model. Why did you select this model among all of the models that you ran?  "
      ],
      "metadata": {
        "id": "M0YaZZOWqwW2"
      }
    },
    {
      "cell_type": "markdown",
      "source": [
        "The final model I chose is the random forest model with six variables, because this model has the highest score in both test data and cross validation. "
      ],
      "metadata": {
        "id": "fkd-zLwVhCG9"
      }
    },
    {
      "cell_type": "markdown",
      "source": [
        "# 14. What variable that currently is not in your model, if included, would be likely to increase your final model's predictive power?  For this answer try to speculate about a variable outside the variables available in the data that would improve you model."
      ],
      "metadata": {
        "id": "4SFPGg-qrJnU"
      }
    },
    {
      "cell_type": "markdown",
      "source": [
        "I assume that the variable \"word_freq_buy\" might increase the final model's predictive power as spam emails usually promote products and entice people to buy them. "
      ],
      "metadata": {
        "id": "cKVC5SochBo4"
      }
    },
    {
      "cell_type": "markdown",
      "source": [
        "# 15. Lastly, you have listed each of the models that we have learned to use to predict dependent variables like spam.  List each model we have focused on in class thus far that you could use to evaluate data with a continuous dependent variable. "
      ],
      "metadata": {
        "id": "oGJ9dL0SrLnT"
      }
    },
    {
      "cell_type": "markdown",
      "source": [
        "Supervised Learning Models:\n",
        "1. K Nearest Neighbors:KNN\n",
        "2. Ridge Regression\n",
        "3. Lasso Regression\n",
        "4. Linear Regression\n",
        "5. Logistic Regression\n",
        "6. Support Vector Machines\n",
        "7. Random Forests\n",
        "8. Decision Tree\n",
        "9. Bagging"
      ],
      "metadata": {
        "id": "t5bWggbKg_wH"
      }
    }
  ]
}